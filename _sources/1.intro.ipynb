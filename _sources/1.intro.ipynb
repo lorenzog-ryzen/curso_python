{
 "cells": [
  {
   "cell_type": "markdown",
   "metadata": {},
   "source": [
    "# Introducción"
   ]
  },
  {
   "cell_type": "markdown",
   "metadata": {},
   "source": [
    "\" Con la digitalización en el centro de la estrategia empresarial, los perfiles tecnológicos asociados al desarrollo de software, DevOps, las ciencias de datos, ciberseguridad, y móviles se posicionan como los más codiciados por las compañías nacionales e internacionales que operan en el país.\n",
    "+ Desarrolladores Full Stack: Entre 5.000.000 y 20.000.000 de pesos.\n",
    "+ Ingenieros DevOps: Entre 12.000.000 y 25.000.000 de pesos.\n",
    "+ Científicos de datos: Entre 9.000.000 y 25.000.000 de pesos.\n",
    "+ Expertos en ciberseguridad: Entre 7.000.000 y 20.000.000 de pesos.\n",
    "+ Desarrolladores de aplicaciones móviles: Entre 8.000.0000 y 26.000.000 de pesos. \""
   ]
  },
  {
   "cell_type": "markdown",
   "metadata": {},
   "source": [
    "![Description of Image](imgs/graph_1.png)"
   ]
  },
  {
   "cell_type": "markdown",
   "metadata": {},
   "source": [
    "# Python"
   ]
  },
  {
   "cell_type": "markdown",
   "metadata": {},
   "source": [
    "Es muy llamativo por su legibilidad y facilidad de uso. No requiere la declaración de variables, a diferencia de otros lenguajes"
   ]
  },
  {
   "cell_type": "markdown",
   "metadata": {},
   "source": [
    "### Python\n",
    "```\n",
    "n = 10\n",
    "for i in range(n):\n",
    "    print(f'{n}**{i}: {n**i}')\n",
    "```\n"
   ]
  },
  {
   "cell_type": "markdown",
   "metadata": {},
   "source": [
    "### Java\n",
    "```\n",
    "public class Potencias {\n",
    "    public static void main(String[] args) {\n",
    "        int n = 10;\n",
    "        for (int i = 0; i < n; i++) {\n",
    "            System.out.println(n + \"**\" + i + \": \" + (int) Math.pow(n, i));\n",
    "        }\n",
    "    }\n",
    "}\n",
    "```"
   ]
  },
  {
   "cell_type": "markdown",
   "metadata": {},
   "source": [
    "### C++\n",
    "```\n",
    "#include <iostream>\n",
    "#include <cmath>\n",
    "\n",
    "int main() {\n",
    "    int n = 10;\n",
    "    for (int i = 0; i < n; i++) {\n",
    "        std::cout << n << \"**\" << i << \": \" << static_cast<int>(pow(n, i)) << std::endl;\n",
    "    }\n",
    "    return 0;\n",
    "}\n",
    "```"
   ]
  },
  {
   "cell_type": "markdown",
   "metadata": {},
   "source": [
    "### JavaScript\n",
    "```\n",
    "let n = 10;\n",
    "for (let i = 0; i < n; i++) {\n",
    "    console.log(`${n}**${i}: ${n ** i}`);\n",
    "}\n",
    "```"
   ]
  },
  {
   "cell_type": "markdown",
   "metadata": {},
   "source": [
    "\n",
    "\n",
    "## 1. 🌐  \n",
    "- Se usa con frameworks como **Django** y **Flask** para crear sitios web, APIs y aplicaciones escalables.  \n",
    "- Ejemplo: Backends de plataformas como Instagram y Spotify.  \n",
    "\n",
    "## 2. 📊🤖  \n",
    "- Ampliamente utilizado en análisis de datos, modelado estadístico y aprendizaje automático.  \n",
    "- Librerías clave: **Pandas**, **NumPy**, **scikit-learn**, **TensorFlow**, **PyTorch**.  \n",
    "\n",
    "## 3. ⚙️  \n",
    "- Permite escribir scripts que automatizan tareas repetitivas como procesamiento de archivos, web scraping o administración de sistemas.  \n",
    "- Librerías clave: **Selenium**, **BeautifulSoup**, **OS**, **shutil**.  \n",
    "\n",
    "## 4. 💻  \n",
    "- Se usa para crear aplicaciones de escritorio, videojuegos y software en general.  \n",
    "- Librerías clave: **PyQt**, **Tkinter**, **Kivy**, **Pygame**.  \n",
    "\n",
    "## 5.  🔐  \n",
    "- Python es utilizado para análisis forense, pruebas de penetración y creación de herramientas de seguridad.  \n",
    "- Librerías clave: **Scapy**, **PyCryptodome**, **Impacket**, **Requests**.  "
   ]
  },
  {
   "cell_type": "markdown",
   "metadata": {},
   "source": [
    "\n"
   ]
  }
 ],
 "metadata": {
  "kernelspec": {
   "display_name": "venv_py",
   "language": "python",
   "name": "python3"
  },
  "language_info": {
   "codemirror_mode": {
    "name": "ipython",
    "version": 3
   },
   "file_extension": ".py",
   "mimetype": "text/x-python",
   "name": "python",
   "nbconvert_exporter": "python",
   "pygments_lexer": "ipython3",
   "version": "3.9.17"
  }
 },
 "nbformat": 4,
 "nbformat_minor": 2
}
