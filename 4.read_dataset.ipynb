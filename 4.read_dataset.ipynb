{
 "cells": [
  {
   "cell_type": "markdown",
   "id": "7d5d4253",
   "metadata": {},
   "source": [
    "# Lectura y conversión de un dataset"
   ]
  },
  {
   "cell_type": "code",
   "execution_count": 13,
   "id": "43881d0a",
   "metadata": {},
   "outputs": [],
   "source": [
    "import pandas as pd\n",
    "import numpy as np"
   ]
  },
  {
   "cell_type": "code",
   "execution_count": 2,
   "id": "5ce6c09d",
   "metadata": {},
   "outputs": [],
   "source": [
    "df = pd.read_csv('super_hero_powers.csv')"
   ]
  },
  {
   "cell_type": "code",
   "execution_count": 26,
   "id": "1ceecf27",
   "metadata": {},
   "outputs": [],
   "source": [
    "random_column_1 = [str(np.random.randint(1,30)) + np.random.choice(['+','-','.'])  for index in range(len(df))]\n",
    "random_column_2 = [np.random.choice(['si','no','Si','No','sí','Sí'])  for index in range(len(df))]\n",
    "random_column_3 = [np.random.choice(['azul','Azul','rojo','Rojo','blanco','Blanco','Verde','verde'])  for index in range(len(df))]"
   ]
  },
  {
   "cell_type": "code",
   "execution_count": 27,
   "id": "5493b784",
   "metadata": {},
   "outputs": [],
   "source": [
    "df['columna_a_limpiar_1'] = random_column_1\n",
    "df['columna_a_limpiar_2'] = random_column_2\n",
    "df['columna_a_limpiar_3'] = random_column_3"
   ]
  },
  {
   "cell_type": "code",
   "execution_count": 28,
   "id": "937e06b1",
   "metadata": {},
   "outputs": [],
   "source": [
    "df[['Unnamed: 0','columna_a_limpiar_1','columna_a_limpiar_2','columna_a_limpiar_3','Yoda','Wonder Woman']].to_csv('to_clean_dataset.csv',index=False)"
   ]
  }
 ],
 "metadata": {
  "kernelspec": {
   "display_name": "vs_env",
   "language": "python",
   "name": "python3"
  },
  "language_info": {
   "codemirror_mode": {
    "name": "ipython",
    "version": 3
   },
   "file_extension": ".py",
   "mimetype": "text/x-python",
   "name": "python",
   "nbconvert_exporter": "python",
   "pygments_lexer": "ipython3",
   "version": "3.12.8"
  }
 },
 "nbformat": 4,
 "nbformat_minor": 5
}
